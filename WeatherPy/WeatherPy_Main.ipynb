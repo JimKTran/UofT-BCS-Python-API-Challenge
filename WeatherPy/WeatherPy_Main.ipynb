{
 "cells": [
  {
   "cell_type": "code",
   "execution_count": 15,
   "metadata": {},
   "outputs": [],
   "source": [
    "# Dependencies and Setup\n",
    "import matplotlib.pyplot as plt\n",
    "import pandas as pd\n",
    "import numpy as np\n",
    "import requests\n",
    "import time\n",
    "from scipy.stats import linregress\n",
    "from pprint import pprint\n",
    "\n",
    "# Import API key\n",
    "from api_keys import weather_api_key\n",
    "\n",
    "# Incorporated citipy to determine city based on latitude and longitude\n",
    "from citipy import citipy\n",
    "\n",
    "# Output File (CSV)\n",
    "output_data_file = \"output_data/cities.csv\"\n",
    "\n",
    "# Range of latitudes and longitudes\n",
    "lat_range = (-90, 90)\n",
    "lng_range = (-180, 180)"
   ]
  },
  {
   "cell_type": "code",
   "execution_count": 22,
   "metadata": {},
   "outputs": [
    {
     "name": "stdout",
     "output_type": "stream",
     "text": [
      "http://api.openweathermap.org/data/2.5/weather?units=metric&appid=ad1c61c774af6fd3bed78f9c1ceafbbf&q=toronto\n"
     ]
    },
    {
     "data": {
      "text/plain": [
       "{'coord': {'lon': -79.42, 'lat': 43.7},\n",
       " 'weather': [{'id': 804,\n",
       "   'main': 'Clouds',\n",
       "   'description': 'overcast clouds',\n",
       "   'icon': '04d'}],\n",
       " 'base': 'stations',\n",
       " 'main': {'temp': 1.26,\n",
       "  'feels_like': -3.07,\n",
       "  'temp_min': 0.56,\n",
       "  'temp_max': 2.22,\n",
       "  'pressure': 1020,\n",
       "  'humidity': 69},\n",
       " 'visibility': 10000,\n",
       " 'wind': {'speed': 2.64, 'deg': 358},\n",
       " 'clouds': {'all': 100},\n",
       " 'dt': 1604074702,\n",
       " 'sys': {'type': 3,\n",
       "  'id': 2010632,\n",
       "  'country': 'CA',\n",
       "  'sunrise': 1604058690,\n",
       "  'sunset': 1604095857},\n",
       " 'timezone': -14400,\n",
       " 'id': 6167865,\n",
       " 'name': 'Toronto',\n",
       " 'cod': 200}"
      ]
     },
     "execution_count": 22,
     "metadata": {},
     "output_type": "execute_result"
    }
   ],
   "source": [
    "api_key = weather_api_key\n",
    "url = 'http://api.openweathermap.org/data/2.5/weather?units='\n",
    "#'http://api.openweathermap.org/data/2.5/weather?q='\n",
    "              #api.openweathermap.org/data/2.5/weather?q= &appid={API key}\n",
    "units = 'metric'\n",
    "query_url = url + units + '&appid=' + api_key + '&q=' + 'toronto'\n",
    "#query_url = f\"{url} + {city name} &units={units}&appid={api_key}\"\n",
    "print(query_url)\n",
    "response = requests.get(query_url).json()\n",
    "response"
   ]
  },
  {
   "cell_type": "code",
   "execution_count": null,
   "metadata": {},
   "outputs": [],
   "source": []
  }
 ],
 "metadata": {
  "kernelspec": {
   "display_name": "Python 3",
   "language": "python",
   "name": "python3"
  },
  "language_info": {
   "codemirror_mode": {
    "name": "ipython",
    "version": 3
   },
   "file_extension": ".py",
   "mimetype": "text/x-python",
   "name": "python",
   "nbconvert_exporter": "python",
   "pygments_lexer": "ipython3",
   "version": "3.8.3"
  }
 },
 "nbformat": 4,
 "nbformat_minor": 4
}
